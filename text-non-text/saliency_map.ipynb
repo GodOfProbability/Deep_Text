{
 "cells": [
  {
   "cell_type": "code",
   "execution_count": 16,
   "metadata": {
    "collapsed": true
   },
   "outputs": [
    {
     "name": "stdout",
     "output_type": "stream",
     "text": [
      "10 512 512 3\n[[[ 0.  0.  0.]]]\n"
     ]
    },
    {
     "name": "stderr",
     "output_type": "stream",
     "text": [
      "/usr/local/lib/python3.4/dist-packages/ipykernel/__main__.py:12: VisibleDeprecationWarning: using a non-integer number instead of an integer will result in an error in the future\n"
     ]
    }
   ],
   "source": [
    "import numpy as np\n",
    "import matplotlib.pyplot as plt\n",
    "\n",
    "from skimage import data\n",
    "from skimage.transform import pyramid_gaussian, pyramid_laplacian\n",
    "\n",
    "image = data.astronaut()\n",
    "rows, cols, dim = image.shape\n",
    "pyramid = list(pyramid_laplacian(image, downscale=2))\n",
    "print (len(pyramid), rows, cols, dim)\n",
    "print (pyramid[9])\n",
    "composite_image = np.zeros((rows, cols + cols / 2, 3), dtype=np.double)\n",
    "\n",
    "composite_image[:rows, :cols, :] = pyramid[0]\n",
    "\n",
    "i_row = 0\n",
    "for p in pyramid[1:]:\n",
    "    n_rows, n_cols = p.shape[:2]\n",
    "    composite_image[i_row:i_row + n_rows, cols:cols + n_cols] = p\n",
    "    i_row += n_rows\n",
    "\n",
    "fig, ax = plt.subplots()\n",
    "ax.imshow(composite_image)\n",
    "plt.show()"
   ]
  },
  {
   "cell_type": "code",
   "execution_count": null,
   "metadata": {},
   "outputs": [],
   "source": [
    "# Read the image\n",
    "# Image should be of the size greater than 512X512\n",
    "rows, columns = image.shape  # image is a grescale\n",
    "from skimage.transform import resize\n",
    "\n",
    "SIZE_TO_DOWNSAMPLE = 6\n",
    "pyramid = tuple(pyramid_laplacian(image, downscale=2))[0: SIZE_TO_DOWNSAMPLE]\n",
    "scored_image = []\n",
    "for i in range(SIZE_TO_DOWNSAMPLE):\n",
    "    img = np.lib.pad(pyramid[i], (12, 12), mode='mean')\n",
    "    ros, cols = img.shape\n",
    "    # for the saliency map, directly put the complete image in the classfier\n",
    "    # It will give per pixel result.\n",
    "    # Put the image in the scored_image\n",
    "\n",
    "resized_saliency_map = []\n",
    "for i, v in enumerate(scored_image):\n",
    "    img = resize(v, (rows, columns), clip=True)\n",
    "    resized_saliency_map += [img]\n",
    "\n",
    "final_image = np.mean(resized_saliency_map) # ideally should give heat map\n",
    "plt.imshow(final_image)"
   ]
  },
  {
   "cell_type": "code",
   "execution_count": 1,
   "metadata": {},
   "outputs": [],
   "source": [
    ""
   ]
  }
 ],
 "metadata": {
  "kernelspec": {
   "display_name": "Python 2",
   "language": "python",
   "name": "python2"
  },
  "language_info": {
   "codemirror_mode": {
    "name": "ipython",
    "version": 2.0
   },
   "file_extension": ".py",
   "mimetype": "text/x-python",
   "name": "python",
   "nbconvert_exporter": "python",
   "pygments_lexer": "ipython2",
   "version": "2.7.6"
  }
 },
 "nbformat": 4,
 "nbformat_minor": 0
}