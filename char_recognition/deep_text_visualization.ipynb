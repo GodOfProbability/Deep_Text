{
 "cells": [
  {
   "cell_type": "code",
   "execution_count": 5,
   "metadata": {},
   "outputs": [],
   "source": [
    "from scipy.io import loadmat\n",
    "from matplotlib import pyplot as plt\n",
    "\n",
    "\n",
    "from scipy.misc import imresize\n",
    "from __future__ import print_function\n",
    "from scipy.misc import imsave\n",
    "import numpy as np\n",
    "import time\n",
    "import os\n",
    "import h5py\n",
    "\n",
    "from keras.models import Sequential\n",
    "from keras.layers import Convolution2D, ZeroPadding2D, MaxPooling2D, Activation, Dropout, Flatten, Dense\n",
    "from keras import backend as K\n",
    "from keras.optimizers import SGD"
   ]
  },
  {
   "cell_type": "code",
   "execution_count": 6,
   "metadata": {},
   "outputs": [
    {
     "data": {
      "text/plain": [
       "dict_keys(['gt', '__globals__', '__header__', '__version__'])"
      ]
     },
     "execution_count": 6,
     "metadata": {},
     "output_type": "execute_result"
    }
   ],
   "source": [
    "mat = loadmat('/media/perceptron/54B4F78779120A69/text-data/jaderberg-eccv2014_textspotting/data/case_insensitive-train_v7.mat')\n",
    "mat.keys()"
   ]
  },
  {
   "cell_type": "code",
   "execution_count": 7,
   "metadata": {},
   "outputs": [],
   "source": [
    "# gt = mat['gt']\n",
    "\n",
    "# print ((gt.shape, type(gt)))\n",
    "# temp_0 = gt[0]\n",
    "# print ((temp_0.shape, type(temp_0)))\n",
    "# temp_1 = temp[0]\n",
    "# print ((temp_1.shape, type(temp_1)))\n",
    "# temp_2_a = temp_1[0]\n",
    "# temp_2_b = temp_1[1]\n",
    "\n",
    "# print ((temp_2_a.shape, type(temp_2_a)))\n",
    "# print ((temp_2_b.shape, type(temp_2_b)))\n",
    "# temp_2_b_0 = temp_2_b[0,0]\n",
    "# print (temp_2_b_0.shape)\n",
    "# temp_2_b_0_0 = temp_2_b_0[0,0]\n",
    "# print (temp_2_b_0_0.shape)\n",
    "images =  mat['gt'][0][0][1]# gt = mat['gt']"
   ]
  },
  {
   "cell_type": "code",
   "execution_count": 13,
   "metadata": {},
   "outputs": [
    {
     "data": {
      "text/plain": [
       "(24, 24)"
      ]
     },
     "execution_count": 13,
     "metadata": {},
     "output_type": "execute_result"
    }
   ],
   "source": [
    "images[0][0][0][0].shape"
   ]
  },
  {
   "cell_type": "code",
   "execution_count": 23,
   "metadata": {},
   "outputs": [],
   "source": [
    "X = np.zeros((185639, 24, 24), dtype = np.uint8)\n",
    "y = np.ones((185639))\n",
    "count = 0\n",
    "for index_c, value_c in enumerate(images[0,:]):\n",
    "    for index_i, value_i in enumerate(value_c[0,:]):\n",
    "        X[count, :, :] = value_i\n",
    "        count += 1"
   ]
  },
  {
   "cell_type": "code",
   "execution_count": 24,
   "metadata": {},
   "outputs": [
    {
     "data": {
      "text/plain": [
       "185639"
      ]
     },
     "execution_count": 24,
     "metadata": {},
     "output_type": "execute_result"
    }
   ],
   "source": [
    "count"
   ]
  },
  {
   "cell_type": "code",
   "execution_count": 25,
   "metadata": {},
   "outputs": [
    {
     "data": {
      "text/plain": [
       "(185639,)"
      ]
     },
     "execution_count": 25,
     "metadata": {},
     "output_type": "execute_result"
    }
   ],
   "source": [
    "y.shape"
   ]
  },
  {
   "cell_type": "code",
   "execution_count": 30,
   "metadata": {},
   "outputs": [
    {
     "data": {
      "text/plain": [
       "<matplotlib.image.AxesImage at 0x7fbb587a7cc0>"
      ]
     },
     "execution_count": 30,
     "metadata": {},
     "output_type": "execute_result"
    },
    {
     "data": {
      "image/png": "[encoded data removed]",
      "text/plain": [
       "<matplotlib.figure.Figure at 0x7fbb58885b70>"
      ]
     },
     "metadata": {},
     "output_type": "display_data"
    }
   ],
   "source": [
    "%matplotlib inline\n",
    "img  = X[100, :, :]#.mean(axis = 2)\n",
    "plt.imshow(img, cmap = 'Greys_r')"
   ]
  },
  {
   "cell_type": "code",
   "execution_count": 27,
   "metadata": {},
   "outputs": [
    {
     "name": "stdout",
     "output_type": "stream",
     "text": [
      "/media/perceptron/54B4F78779120A69/text-data/jaderberg-eccv2014_textspotting/data\n"
     ]
    }
   ],
   "source": [
    "cd /media/perceptron/54B4F78779120A69/text-data/jaderberg-eccv2014_textspotting/data"
   ]
  },
  {
   "cell_type": "code",
   "execution_count": 18,
   "metadata": {},
   "outputs": [],
   "source": [
    "import cPickle as pickle\n",
    "import numpy as np\n",
    "import os\n",
    "from scipy.misc import imread\n",
    "\n",
    "def load_CIFAR_batch(filename):\n",
    "  \"\"\" load single batch of cifar \"\"\"\n",
    "  with open(filename, 'rb') as f:\n",
    "    datadict = pickle.load(f)\n",
    "    X = datadict['data']\n",
    "    Y = datadict['labels']\n",
    "    X = X.reshape(10000, 3, 32, 32).transpose(0,2,3,1).astype(\"float\")\n",
    "    Y = np.array(Y)\n",
    "    return X, Y"
   ]
  },
  {
   "cell_type": "code",
   "execution_count": 19,
   "metadata": {},
   "outputs": [],
   "source": [
    "x_cifar, _ = load_CIFAR_batch('/home/perceptron/cape_coalwood/text/cifar-10-batches-py/data_batch_1')\n",
    "resized_images = np.zeros((10000, 24, 24))\n",
    "for i in range(resized_images.shape[0]):\n",
    "    img  = x_cifar[i, :, :, :].mean(axis = 2)\n",
    "    img = imresize(img, size = (24, 24))\n",
    "    resized_images[i, :, :] = img"
   ]
  },
  {
   "cell_type": "code",
   "execution_count": 20,
   "metadata": {},
   "outputs": [],
   "source": [
    "X = np.concatenate((X, resized_images), axis = 0)"
   ]
  },
  {
   "cell_type": "code",
   "execution_count": 21,
   "metadata": {},
   "outputs": [
    {
     "data": {
      "text/plain": [
       "(195639, 24, 24)"
      ]
     },
     "execution_count": 21,
     "metadata": {},
     "output_type": "execute_result"
    }
   ],
   "source": [
    "X.shape"
   ]
  },
  {
   "cell_type": "code",
   "execution_count": 24,
   "metadata": {},
   "outputs": [],
   "source": [
    "resize_label = np.ones((10000))\n",
    "y = np.concatenate((y, resize_label), axis= 0)"
   ]
  },
  {
   "cell_type": "code",
   "execution_count": 25,
   "metadata": {},
   "outputs": [
    {
     "data": {
      "text/plain": [
       "(195639,)"
      ]
     },
     "execution_count": 25,
     "metadata": {},
     "output_type": "execute_result"
    }
   ],
   "source": [
    "y.shape"
   ]
  },
  {
   "cell_type": "code",
   "execution_count": 28,
   "metadata": {},
   "outputs": [],
   "source": [
    "with h5py.File('train_text_non_text_pos.h5','w') as hf:\n",
    "    hf.create_dataset('X', data=X)\n",
    "    hf.create_dataset('y', data=y)"
   ]
  },
  {
   "cell_type": "code",
   "execution_count": 29,
   "metadata": {},
   "outputs": [
    {
     "name": "stdout",
     "output_type": "stream",
     "text": [
      "List of arrays in this file: \n KeysView(<HDF5 file \"train_text_non_text_pos.h5\" (mode r)>)\n"
     ]
    }
   ],
   "source": [
    "# Test score the experiment\n",
    "with h5py.File('train_text_non_text_pos.h5','r') as hf:\n",
    "    print('List of arrays in this file: \\n', hf.keys())\n",
    "    data = hf.get('X')\n",
    "    X = np.array(data)\n",
    "    data = hf.get('y')\n",
    "    y = np.array(data)"
   ]
  },
  {
   "cell_type": "code",
   "execution_count": 5,
   "metadata": {},
   "outputs": [
    {
     "name": "stdout",
     "output_type": "stream",
     "text": [
      "/media/perceptron/54B4F78779120A69/text-data/jaderberg-eccv2014_textspotting/data\n",
      "List of arrays in this file: \n"
     ]
    },
    {
     "name": "stdout",
     "output_type": "stream",
     "text": [
      " [u'X', u'y']\n"
     ]
    }
   ],
   "source": [
    "%cd /media/perceptron/54B4F78779120A69/text-data/jaderberg-eccv2014_textspotting/data/\n",
    "with h5py.File('test_case_insesitive.h5','r') as hf:\n",
    "    print('List of arrays in this file: \\n', hf.keys())"
   ]
  },
  {
   "cell_type": "code",
   "execution_count": 31,
   "metadata": {},
   "outputs": [
    {
     "name": "stdout",
     "output_type": "stream",
     "text": [
      "/home/perceptron/cape_coalwood/text/text-non-text/deep_text\n",
      "Model loaded."
     ]
    },
    {
     "name": "stdout",
     "output_type": "stream",
     "text": [
      "\n",
      "____________________________________________________________________________________________________\n",
      "Layer (type)                     Output Shape          Param #     Connected to                     \n",
      "====================================================================================================\n",
      "convolution2d_16 (Convolution2D) (None, 128, 24, 24)   1280        convolution2d_input_4[0][0]      \n",
      "____________________________________________________________________________________________________\n",
      "activation_19 (Activation)       (None, 128, 24, 24)   0           convolution2d_16[0][0]           "
     ]
    },
    {
     "name": "stdout",
     "output_type": "stream",
     "text": [
      "\n",
      "____________________________________________________________________________________________________\n",
      "convolution2d_17 (Convolution2D) (None, 128, 24, 24)   147584      activation_19[0][0]              \n",
      "____________________________________________________________________________________________________\n",
      "activation_20 (Activation)       (None, 128, 24, 24)   0           convolution2d_17[0][0]           "
     ]
    },
    {
     "name": "stdout",
     "output_type": "stream",
     "text": [
      "\n",
      "____________________________________________________________________________________________________\n",
      "convolution2d_18 (Convolution2D) (None, 128, 24, 24)   147584      activation_20[0][0]              \n",
      "____________________________________________________________________________________________________\n",
      "activation_21 (Activation)       (None, 128, 24, 24)   0           convolution2d_18[0][0]           \n",
      "____________________________________________________________________________________________________\n",
      "maxpooling2d_7 (MaxPooling2D)    (None, 128, 12, 12)   0           activation_21[0][0]              \n",
      "____________________________________________________________________________________________________\n",
      "dropout_10 (Dropout)             (None, 128, 12, 12)   0           maxpooling2d_7[0][0]             \n",
      "____________________________________________________________________________________________________\n",
      "convolution2d_19 (Convolution2D) (None, 256, 10, 10)   295168      dropout_10[0][0]                 "
     ]
    },
    {
     "name": "stdout",
     "output_type": "stream",
     "text": [
      "\n",
      "____________________________________________________________________________________________________\n",
      "activation_22 (Activation)       (None, 256, 10, 10)   0           convolution2d_19[0][0]           \n",
      "____________________________________________________________________________________________________\n",
      "dropout_11 (Dropout)             (None, 256, 10, 10)   0           activation_22[0][0]              \n",
      "____________________________________________________________________________________________________\n",
      "convolution2d_20 (Convolution2D) (None, 256, 8, 8)     590080      dropout_11[0][0]                 "
     ]
    },
    {
     "name": "stdout",
     "output_type": "stream",
     "text": [
      "\n",
      "____________________________________________________________________________________________________\n",
      "activation_23 (Activation)       (None, 256, 8, 8)     0           convolution2d_20[0][0]           \n",
      "____________________________________________________________________________________________________\n",
      "maxpooling2d_8 (MaxPooling2D)    (None, 256, 4, 4)     0           activation_23[0][0]              \n",
      "____________________________________________________________________________________________________\n",
      "dropout_12 (Dropout)             (None, 256, 4, 4)     0           maxpooling2d_8[0][0]             \n",
      "____________________________________________________________________________________________________\n",
      "flatten_4 (Flatten)              (None, 4096)          0           dropout_12[0][0]                 \n",
      "____________________________________________________________________________________________________\n",
      "dense_4 (Dense)                  (None, 37)            151589      flatten_4[0][0]                  "
     ]
    },
    {
     "name": "stdout",
     "output_type": "stream",
     "text": [
      "\n",
      "____________________________________________________________________________________________________\n",
      "activation_24 (Activation)       (None, 37)            0           dense_4[0][0]                    \n",
      "====================================================================================================\n",
      "Total params: 1333285\n",
      "____________________________________________________________________________________________________\n"
     ]
    }
   ],
   "source": [
    "%cd /home/perceptron/cape_coalwood/text/text-non-text/deep_text/\n",
    "batch_size = 32\n",
    "nb_epoch = 50\n",
    "img_rows, img_cols = 24, 24\n",
    "nb_classes = 37\n",
    "\n",
    "weights_path = 'weight.hdf5'\n",
    "# util function to convert a tensor into a valid image\n",
    "def deprocess_image(x):\n",
    "    # normalize tensor: center on 0., ensure std is 0.1\n",
    "    x -= x.mean()\n",
    "    x /= (x.std() + 1e-5)\n",
    "    x *= 0.1\n",
    "\n",
    "    # clip to [0, 1]\n",
    "    x += 0.5\n",
    "    x = np.clip(x, 0, 1)\n",
    "\n",
    "    # convert to RGB array\n",
    "    x *= 255\n",
    "#     x = x.transpose((1, 2, 0))\n",
    "    x = np.clip(x, 0, 255).astype('uint8')\n",
    "    return x\n",
    "\n",
    "# build the VGG16 network\n",
    "model = Sequential()\n",
    "\n",
    "model.add(Convolution2D(128, 3, 3, border_mode='same', input_shape=(1, img_rows, img_cols)))\n",
    "\n",
    "first_layer = model.layers[-1]\n",
    "input_img = first_layer.input\n",
    "\n",
    "model.add(Activation('relu'))\n",
    "model.add(Convolution2D(128, 3, 3, border_mode='same'))\n",
    "model.add(Activation('relu'))\n",
    "model.add(Convolution2D(128, 3, 3, border_mode='same'))\n",
    "model.add(Activation('relu'))\n",
    "model.add(MaxPooling2D(pool_size=(2, 2)))\n",
    "model.add(Dropout(0.75))\n",
    "\n",
    "model.add(Convolution2D(256, 3, 3))\n",
    "model.add(Activation('relu'))\n",
    "model.add(Dropout(0.5))\n",
    "\n",
    "model.add(Convolution2D(256, 3, 3))\n",
    "model.add(Activation('relu'))\n",
    "model.add(MaxPooling2D(pool_size=(2, 2)))\n",
    "model.add(Dropout(0.5))\n",
    "\n",
    "model.add(Flatten())\n",
    "model.add(Dense(37))\n",
    "model.add(Activation('softmax'))\n",
    "print('Model loaded.')\n",
    "\n",
    "model.compile(loss='categorical_crossentropy',\n",
    "              optimizer=sgd,\n",
    "              metrics=['accuracy'])\n",
    "sgd = SGD(lr=0.01, decay=1e-6, momentum=0.9, nesterov=True)\n",
    "model.summary()"
   ]
  },
  {
   "cell_type": "code",
   "execution_count": 50,
   "metadata": {},
   "outputs": [
    {
     "name": "stdout",
     "output_type": "stream",
     "text": [
      "Processing filter 0\n",
      "(1, 24, 24)"
     ]
    },
    {
     "name": "stdout",
     "output_type": "stream",
     "text": [
      "\n"
     ]
    },
    {
     "data": {
      "text/plain": [
       "<matplotlib.image.AxesImage at 0x7f01da2c5bd0>"
      ]
     },
     "execution_count": 50,
     "metadata": {},
     "output_type": "execute_result"
    },
    {
     "data": {
      "image/png": "[encoded data removed]",
      "text/plain": [
       "<matplotlib.figure.Figure at 0x7f01f0663510>"
      ]
     },
     "metadata": {},
     "output_type": "display_data"
    }
   ],
   "source": [
    "from keras import backend as K\n",
    "\n",
    "filter_index = 0\n",
    "print('Processing filter %d' % filter_index)\n",
    "layer_name  = 'convolution2d_20'\n",
    "layer_dict = dict([(layer.name, layer) for layer in model.layers])\n",
    "# we build a loss function that maximizes the activation\n",
    "# of the nth filter of the layer considered\n",
    "layer_output = layer_dict[layer_name].output\n",
    "loss = K.mean(layer_output[:, 13, :, :])\n",
    "\n",
    "# we compute the gradient of the input picture wrt this loss\n",
    "grads = K.gradients(loss, input_img)[0]\n",
    "\n",
    "# normalization trick: we normalize the gradient\n",
    "grads /= (K.sqrt(K.mean(K.square(grads))) + 1e-5)\n",
    "\n",
    "# this function returns the loss and grads given the input picture\n",
    "iterate = K.function([input_img,  K.learning_phase()], [loss, grads])\n",
    "input_img_data = np.random.random((1, 1, 24, 24)) * 20 + 128.\n",
    "\n",
    "# run gradient ascent for 20 steps\n",
    "for i in range(500):\n",
    "    loss_value, grads_value = iterate([input_img_data, 0])\n",
    "    input_img_data += grads_value * 1\n",
    "#     print (loss_value)\n",
    "    \n",
    "img = input_img_data[0]\n",
    "img = deprocess_image(img)\n",
    "print (img.shape)\n",
    "# imsave('%s_filter_%d.png' % (layer_name, filter_index), img[0,:,:])\n",
    "plt.imshow(img[0,:,:], cmap = 'Greys_r')"
   ]
  },
  {
   "cell_type": "code",
   "execution_count": 27,
   "metadata": {},
   "outputs": [],
   "source": [
    "%matplotlib inline"
   ]
  }
 ],
 "metadata": {
  "name": ""
 },
 "nbformat": 4,
 "nbformat_minor": 0
}