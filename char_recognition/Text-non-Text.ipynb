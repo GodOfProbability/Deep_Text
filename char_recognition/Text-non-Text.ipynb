{
 "cells": [
  {
   "cell_type": "code",
   "execution_count": 5,
   "metadata": {},
   "outputs": [],
   "source": [
    "from __future__ import print_function\n",
    "from keras.datasets import cifar10\n",
    "from keras.preprocessing.image import ImageDataGenerator\n",
    "from keras.models import Sequential\n",
    "from keras.layers import Dense, Dropout, Activation, Flatten\n",
    "from keras.layers import Convolution2D, MaxPooling2D\n",
    "from keras.optimizers import SGD\n",
    "from keras.utils import np_utils\n",
    "from matplotlib import pyplot as plt\n",
    "import cPickle as pickle\n",
    "import numpy as np\n",
    "import os\n",
    "\n",
    "from scipy.misc import imread\n",
    "import h5py\n",
    "\n",
    "batch_size = 32\n",
    "nb_classes = 10\n",
    "nb_epoch = 20\n",
    "data_augmentation = True"
   ]
  },
  {
   "cell_type": "code",
   "execution_count": null,
   "metadata": {},
   "outputs": [],
   "source": [
    "# input image dimensions\n",
    "img_rows, img_cols = 32, 32\n",
    "# the CIFAR10 images are RGB\n",
    "img_channels = 3\n",
    "\n",
    "# the data, shuffled and split between train and test sets\n",
    "X_train, y_train, X_test, y_test = data_utils.load_CIFAR10('cifar-10-batches-py')\n",
    "print('X_train shape:', X_train.shape)\n",
    "print(X_train.shape[0], 'train samples')\n",
    "print(X_test.shape[0], 'test samples')"
   ]
  },
  {
   "cell_type": "code",
   "execution_count": 9,
   "metadata": {},
   "outputs": [
    {
     "name": "stdout",
     "output_type": "stream",
     "text": [
      "List of arrays in this file: \n",
      " [u'X_test', u'X_train', u'y_test', u'y_train']\n"
     ]
    }
   ],
   "source": [
    "#Expoting in hdf5 format\n",
    "with h5py.File('cifar-10.h5', 'w') as hf:\n",
    "    hf.create_dataset('X_train', data=X_train)\n",
    "    hf.create_dataset('X_test', data=X_test)\n",
    "    hf.create_dataset('y_train', data=y_train)\n",
    "    hf.create_dataset('y_test', data=y_test)\n",
    "with h5py.File('cifar-10.h5','r') as hf:\n",
    "    print('List of arrays in this file: \\n', hf.keys())\n",
    "    data = hf.get('X_train')\n",
    "    X_train = np.array(data)\n",
    "    data = hf.get('X_test')\n",
    "    X_test = np.array(data)\n",
    "    data = hf.get('y_train')\n",
    "    y_train = np.array(data)\n",
    "    data = hf.get('y_test')\n",
    "    y_test = np.array(data)"
   ]
  },
  {
   "cell_type": "code",
   "execution_count": 12,
   "metadata": {},
   "outputs": [],
   "source": [
    "del X_test, X_train, y_train, y_test"
   ]
  },
  {
   "cell_type": "code",
   "execution_count": 20,
   "metadata": {},
   "outputs": [
    {
     "name": "stdout",
     "output_type": "stream",
     "text": [
      "____________________________________________________________________________________________________\n",
      "Layer (type)                     Output Shape          Param #     Connected to                     \n",
      "====================================================================================================\n",
      "convolution2d_4 (Convolution2D)  (None, 32, 32, 32)    896         convolution2d_input_2[0][0]      \n",
      "____________________________________________________________________________________________________\n",
      "activation_6 (Activation)        (None, 32, 32, 32)    0           convolution2d_4[0][0]            "
     ]
    },
    {
     "name": "stdout",
     "output_type": "stream",
     "text": [
      "\n",
      "____________________________________________________________________________________________________\n",
      "convolution2d_5 (Convolution2D)  (None, 32, 30, 30)    9248        activation_6[0][0]               \n",
      "____________________________________________________________________________________________________\n",
      "activation_7 (Activation)        (None, 32, 30, 30)    0           convolution2d_5[0][0]            "
     ]
    },
    {
     "name": "stdout",
     "output_type": "stream",
     "text": [
      "\n",
      "____________________________________________________________________________________________________\n",
      "maxpooling2d_3 (MaxPooling2D)    (None, 32, 15, 15)    0           activation_7[0][0]               \n",
      "____________________________________________________________________________________________________\n",
      "dropout_4 (Dropout)              (None, 32, 15, 15)    0           maxpooling2d_3[0][0]             \n",
      "____________________________________________________________________________________________________\n",
      "convolution2d_6 (Convolution2D)  (None, 64, 15, 15)    18496       dropout_4[0][0]                  \n",
      "____________________________________________________________________________________________________\n",
      "activation_8 (Activation)        (None, 64, 15, 15)    0           convolution2d_6[0][0]            "
     ]
    },
    {
     "name": "stdout",
     "output_type": "stream",
     "text": [
      "\n",
      "____________________________________________________________________________________________________\n",
      "maxpooling2d_4 (MaxPooling2D)    (None, 64, 7, 7)      0           activation_8[0][0]               \n",
      "____________________________________________________________________________________________________\n",
      "dropout_5 (Dropout)              (None, 64, 7, 7)      0           maxpooling2d_4[0][0]             \n",
      "____________________________________________________________________________________________________\n",
      "flatten_2 (Flatten)              (None, 3136)          0           dropout_5[0][0]                  \n",
      "____________________________________________________________________________________________________\n",
      "dense_3 (Dense)                  (None, 32)            100384      flatten_2[0][0]                  \n",
      "____________________________________________________________________________________________________\n",
      "activation_9 (Activation)        (None, 32)            0           dense_3[0][0]                    \n",
      "____________________________________________________________________________________________________\n",
      "dropout_6 (Dropout)              (None, 32)            0           activation_9[0][0]               \n",
      "____________________________________________________________________________________________________\n",
      "dense_4 (Dense)                  (None, 2)             66          dropout_6[0][0]                  "
     ]
    },
    {
     "name": "stdout",
     "output_type": "stream",
     "text": [
      "\n",
      "____________________________________________________________________________________________________\n",
      "activation_10 (Activation)       (None, 2)             0           dense_4[0][0]                    \n",
      "====================================================================================================\n",
      "Total params: 129090\n",
      "____________________________________________________________________________________________________\n",
      "Using real-time data augmentation.\n"
     ]
    }
   ],
   "source": [
    "from __future__ import print_function\n",
    "from keras.datasets import cifar10\n",
    "from keras.preprocessing.image import ImageDataGenerator\n",
    "from keras.models import Sequential\n",
    "from keras.layers import Dense, Dropout, Activation, Flatten\n",
    "from keras.layers import Convolution2D, MaxPooling2D\n",
    "from keras.optimizers import SGD\n",
    "from keras.utils import np_utils\n",
    "\n",
    "batch_size = 32\n",
    "nb_classes = 2\n",
    "nb_epoch = 200\n",
    "data_augmentation = True\n",
    "\n",
    "# input image dimensions\n",
    "img_rows, img_cols = 32, 32\n",
    "# the CIFAR10 images are RGB\n",
    "img_channels = 3\n",
    "\n",
    "model = Sequential()\n",
    "model.add(Convolution2D(32, 3, 3, border_mode='same',\n",
    "                        input_shape=(img_channels, img_rows, img_cols)))\n",
    "first_layer = model.layers[-1]\n",
    "# this is a placeholder tensor that will contain our generated images\n",
    "input_img = first_layer.input\n",
    "\n",
    "model.add(Activation('relu'))\n",
    "model.add(Convolution2D(32, 3, 3))\n",
    "model.add(Activation('relu'))\n",
    "model.add(MaxPooling2D(pool_size=(2, 2)))\n",
    "model.add(Dropout(0.75))\n",
    "\n",
    "model.add(Convolution2D(64, 3, 3, border_mode='same'))\n",
    "model.add(Activation('relu'))\n",
    "#model.add(Convolution2D(64, 3, 3))\n",
    "#model.add(Activation('relu'))\n",
    "model.add(MaxPooling2D(pool_size=(2, 2)))\n",
    "model.add(Dropout(0.5))\n",
    "\n",
    "model.add(Flatten())\n",
    "model.add(Dense(32))\n",
    "model.add(Activation('relu'))\n",
    "model.add(Dropout(0.5))\n",
    "model.add(Dense(2))\n",
    "model.add(Activation('softmax'))\n",
    "\n",
    "\n",
    "# let's train the model using SGD + momentum (how original).\n",
    "sgd = SGD(lr=0.01, decay=1e-6, momentum=0.9, nesterov=True)\n",
    "model.compile(loss='categorical_crossentropy',\n",
    "              optimizer=sgd,\n",
    "              metrics=['accuracy'])\n",
    "model.summary()\n",
    "# X_train = X_train.astype('float32')\n",
    "# X_test = X_test.astype('float32')\n",
    "# X_train /= 255\n",
    "# X_test /= 255\n",
    "\n",
    "if not data_augmentation:\n",
    "    print('Not using data augmentation.')\n",
    "    model.fit(X_train, Y_train,\n",
    "              batch_size=batch_size,\n",
    "              nb_epoch=nb_epoch,\n",
    "              validation_data=(X_test, Y_test),\n",
    "              shuffle=True)\n",
    "else:\n",
    "    print('Using real-time data augmentation.')\n",
    "\n",
    "    # this will do preprocessing and realtime data augmentation\n",
    "    datagen = ImageDataGenerator(\n",
    "        rotation_range=20,  # randomly rotate images in the range (degrees, 0 to 180)\n",
    "        width_shift_range=0.10,  # randomly shift images horizontally (fraction of total width)\n",
    "        height_shift_range=0.10,  # randomly shift images vertically (fraction of total height)\n",
    "        vertical_flip=False,\n",
    "        zoom_range=0.1,\n",
    "        shear_range=0.1,\n",
    "        fill_mode=\"nearest\")  # randomly flip images\n",
    "\n",
    "\n",
    "    # compute quantities required for featurewise normalization\n",
    "    # (std, mean, and principal components if ZCA whitening is applied)\n",
    "#     datagen.fit(X_train)\n",
    "\n",
    "    # fit the model on the batches generated by datagen.flow()\n",
    "#     model.fit_generator(datagen.flow(X_train, Y_train,\n",
    "#                         batch_size=batch_size),\n",
    "#                         samples_per_epoch=X_train.shape[0],\n",
    "#                         nb_epoch=nb_epoch,\n",
    "#                         validation_data=(X_test, Y_test))"
   ]
  },
  {
   "cell_type": "code",
   "execution_count": 31,
   "metadata": {},
   "outputs": [
    {
     "name": "stdout",
     "output_type": "stream",
     "text": [
      "<keras.layers.convolutional.Convolution2D object at 0x7fb3b3961450>\n",
      "<keras.layers.core.Activation object at 0x7fb3b3961490>\n",
      "<keras.layers.convolutional.Convolution2D object at 0x7fb3b2f852d0>\n",
      "<keras.layers.core.Activation object at 0x7fb3b2f48850>\n",
      "<keras.layers.convolutional.MaxPooling2D object at 0x7fb3b2f55190>\n",
      "<keras.layers.core.Dropout object at 0x7fb3b2f55150>\n",
      "<keras.layers.convolutional.Convolution2D object at 0x7fb3b2ee9bd0>\n",
      "<keras.layers.core.Activation object at 0x7fb3b2edc110>\n",
      "<keras.layers.convolutional.MaxPooling2D object at 0x7fb3b2c70490>\n",
      "<keras.layers.core.Dropout object at 0x7fb3b2c70450>\n",
      "<keras.layers.core.Flatten object at 0x7fb3b2c75210>\n",
      "<keras.layers.core.Dense object at 0x7fb3b2c701d0>\n",
      "<keras.layers.core.Activation object at 0x7fb3b2bb89d0>\n",
      "<keras.layers.core.Dropout object at 0x7fb3b2bc61d0>\n",
      "<keras.layers.core.Dense object at 0x7fb3b2bb8610>\n",
      "<keras.layers.core.Activation object at 0x7fb3b2bb8750>\n"
     ]
    }
   ],
   "source": [
    "for layer in model.layers:\n",
    "    print (layer)"
   ]
  },
  {
   "cell_type": "code",
   "execution_count": 21,
   "metadata": {},
   "outputs": [
    {
     "name": "stdout",
     "output_type": "stream",
     "text": [
      "/home/perceptron/cape_coalwood/text/text-non-text/new_classifier\n"
     ]
    },
    {
     "name": "stdout",
     "output_type": "stream",
     "text": [
      "\r",
      "1/1 [==============================] - 0s"
     ]
    },
    {
     "name": "stdout",
     "output_type": "stream",
     "text": [
      "\n",
      "[0]\n"
     ]
    },
    {
     "data": {
      "image/png": "[encoded data removed]",
      "text/plain": [
       "<matplotlib.figure.Figure at 0x7f2bd909f050>"
      ]
     },
     "metadata": {},
     "output_type": "display_data"
    }
   ],
   "source": [
    "%cd /home/perceptron/cape_coalwood/text/text-non-text/new_classifier\n",
    "\n",
    "%matplotlib inline\n",
    "from skimage.transform import resize\n",
    "model.load_weights('weights.hdf5')\n",
    "\n",
    "# img_1 = plt.imread('I00017.png')\n",
    "# img_1 = resize(img_1, (32,32,3))\n",
    "\n",
    "img_1 = plt.imread('img007-00014.png')\n",
    "img_1 = resize(img_1, (32,32,3))\n",
    "plt.imshow(img_1)\n",
    "img_1 = np.expand_dims(img_1, axis=0).transpose((0, 3, 1, 2))\n",
    "trial = np.ones((1,3,32,32))\n",
    "# print (img_1.shape)\n",
    "\n",
    "prediction = model.predict_classes(img_1, verbose=1)\n",
    "print (prediction)"
   ]
  },
  {
   "cell_type": "code",
   "execution_count": 7,
   "metadata": {},
   "outputs": [],
   "source": [
    "def deprocess_image(x):\n",
    "    # normalize tensor: center on 0., ensure std is 0.1\n",
    "    x -= x.mean()\n",
    "    x /= (x.std() + 1e-5)\n",
    "    x *= 0.1\n",
    "\n",
    "    # clip to [0, 1]\n",
    "    x += 0.5\n",
    "    x = np.clip(x, 0, 1)\n",
    "\n",
    "    # convert to RGB array\n",
    "    x *= 255\n",
    "    x = x.transpose((1, 2, 0))\n",
    "    x = np.clip(x, 0, 255).astype('uint8')\n",
    "    return x"
   ]
  },
  {
   "cell_type": "code",
   "execution_count": 11,
   "metadata": {},
   "outputs": [
    {
     "data": {
      "image/png": "[encoded data removed]",
      "text/plain": [
       "<matplotlib.figure.Figure at 0x7f2bd268b050>"
      ]
     },
     "metadata": {},
     "output_type": "display_data"
    }
   ],
   "source": [
    "g = model.layers[0].get_weights()[0]\n",
    "# print (g.shape)\n",
    "for i in range(32):\n",
    "    img = deprocess_image(g[i,:,:,:]).mean(axis=2)\n",
    "    plt.subplot(4,8,i)\n",
    "    plt.axis('off')\n",
    "    plt.imshow(img, cmap=\"Greys_r\")\n",
    "    if i==31:\n",
    "        plt.savefig('first_layer_weight_grey.png')"
   ]
  },
  {
   "cell_type": "code",
   "execution_count": 70,
   "metadata": {},
   "outputs": [
    {
     "data": {
      "text/plain": [
       "(32, 32, 3, 3)"
      ]
     },
     "execution_count": 70,
     "metadata": {},
     "output_type": "execute_result"
    }
   ],
   "source": [
    "p = model.layers[2]\n",
    "(p.get_weights()[0].shape)"
   ]
  },
  {
   "cell_type": "code",
   "execution_count": 27,
   "metadata": {},
   "outputs": [
    {
     "name": "stdout",
     "output_type": "stream",
     "text": [
      "Processing filter 0\n",
      "Current loss value:"
     ]
    },
    {
     "name": "stdout",
     "output_type": "stream",
     "text": [
      " 221.344451904\n",
      "Current loss value: 223.028884888\n",
      "Current loss value: 224.713195801\n",
      "Current loss value: 226.397277832\n",
      "Current loss value: 228.081100464\n",
      "Current loss value: 229.76473999\n",
      "Current loss value: 231.448165894\n",
      "Current loss value:"
     ]
    },
    {
     "name": "stdout",
     "output_type": "stream",
     "text": [
      " 233.131332397\n",
      "Current loss value: 234.814376831\n",
      "Current loss value: 236.497283936\n",
      "Current loss value: 238.179977417\n",
      "Current loss value: 239.862579346\n",
      "Current loss value: 241.545013428\n",
      "Current loss value: 243.227279663\n",
      "Current loss value: 244.909347534\n",
      "Current loss value:"
     ]
    },
    {
     "name": "stdout",
     "output_type": "stream",
     "text": [
      " 246.591262817\n",
      "Current loss value: 248.273086548\n",
      "Current loss value: 249.954681396\n",
      "Current loss value: 251.636199951\n",
      "Current loss value: 253.317657471\n",
      "Processing filter 1\n",
      "Current loss value:"
     ]
    },
    {
     "name": "stdout",
     "output_type": "stream",
     "text": [
      " 65.3406677246\n",
      "Current loss value: 66.5287399292\n",
      "Current loss value: 67.7161331177\n",
      "Current loss value: 68.9028549194\n",
      "Current loss value:"
     ]
    },
    {
     "name": "stdout",
     "output_type": "stream",
     "text": [
      " 70.089012146\n",
      "Current loss value: 71.2746658325\n",
      "Current loss value: 72.4598770142\n",
      "Current loss value:"
     ]
    },
    {
     "name": "stdout",
     "output_type": "stream",
     "text": [
      " 73.6447677612\n",
      "Current loss value: 74.8293762207\n",
      "Current loss value: 76.0137252808\n",
      "Current loss value: 77.1979598999\n",
      "Current loss value: 78.381980896\n",
      "Current loss value: 79.5657958984\n",
      "Current loss value: 80.7494049072\n",
      "Current loss value: 81.9328308105\n",
      "Current loss value: 83.1161117554\n",
      "Current loss value: 84.2993469238\n",
      "Current loss value: 85.4825210571\n",
      "Current loss value: 86.6656341553\n",
      "Current loss value:"
     ]
    },
    {
     "name": "stdout",
     "output_type": "stream",
     "text": [
      " 87.8486709595\n",
      "Processing filter 2\n",
      "Current loss value:"
     ]
    },
    {
     "name": "stdout",
     "output_type": "stream",
     "text": [
      " 267.21182251\n",
      "Current loss value: 269.267913818\n",
      "Current loss value: 271.323944092\n",
      "Current loss value: 273.379852295\n",
      "Current loss value: 275.43572998\n",
      "Current loss value: 277.491546631\n",
      "Current loss value: 279.547271729\n",
      "Current loss value:"
     ]
    },
    {
     "name": "stdout",
     "output_type": "stream",
     "text": [
      " 281.602905273\n",
      "Current loss value: 283.658416748\n",
      "Current loss value: 285.713897705\n",
      "Current loss value: 287.769256592\n",
      "Current loss value: 289.824432373\n",
      "Current loss value: 291.879608154\n",
      "Current loss value:"
     ]
    },
    {
     "name": "stdout",
     "output_type": "stream",
     "text": [
      " 293.934661865\n",
      "Current loss value: 295.989624023\n",
      "Current loss value: 298.044433594\n",
      "Current loss value: 300.099273682\n",
      "Current loss value: 302.154022217\n",
      "Current loss value: 304.208709717\n",
      "Current loss value: 306.263244629\n",
      "Processing filter 3\n",
      "Current loss value:"
     ]
    },
    {
     "name": "stdout",
     "output_type": "stream",
     "text": [
      " -93.4452590942\n",
      "Processing filter 4\n",
      "Current loss value:"
     ]
    },
    {
     "name": "stdout",
     "output_type": "stream",
     "text": [
      " -110.193458557\n",
      "Processing filter 5\n",
      "Current loss value:"
     ]
    },
    {
     "name": "stdout",
     "output_type": "stream",
     "text": [
      " 145.130599976\n",
      "Current loss value: 146.352874756\n",
      "Current loss value: 147.575180054\n",
      "Current loss value: 148.797439575\n",
      "Current loss value: 150.019714355\n",
      "Current loss value: 151.241928101\n",
      "Current loss value: 152.464096069\n",
      "Current loss value: 153.686264038\n",
      "Current loss value: 154.908416748\n",
      "Current loss value: 156.130569458\n",
      "Current loss value: 157.352722168\n",
      "Current loss value: 158.574920654\n",
      "Current loss value:"
     ]
    },
    {
     "name": "stdout",
     "output_type": "stream",
     "text": [
      " 159.797103882\n",
      "Current loss value: 161.019241333\n",
      "Current loss value: 162.241378784\n",
      "Current loss value: 163.463485718\n",
      "Current loss value: 164.685592651\n",
      "Current loss value: 165.907653809\n",
      "Current loss value: 167.129714966\n",
      "Current loss value: 168.351760864\n",
      "Processing filter 6\n",
      "Current loss value:"
     ]
    },
    {
     "name": "stdout",
     "output_type": "stream",
     "text": [
      " 32.4818611145\n",
      "Current loss value: 33.2516555786\n",
      "Current loss value: 34.0215568542\n",
      "Current loss value: 34.7915840149\n",
      "Current loss value: 35.5617485046\n",
      "Current loss value: 36.3320159912\n",
      "Current loss value: 37.1023597717\n",
      "Current loss value: 37.8728752136\n",
      "Current loss value: 38.6435775757\n",
      "Current loss value: 39.4144325256\n",
      "Current loss value: 40.185459137\n",
      "Current loss value: 40.956703186\n",
      "Current loss value:"
     ]
    },
    {
     "name": "stdout",
     "output_type": "stream",
     "text": [
      " 41.7280540466\n",
      "Current loss value: 42.4995651245\n",
      "Current loss value: 43.2712211609\n",
      "Current loss value: 44.0429115295\n",
      "Current loss value: 44.8146514893\n",
      "Current loss value: 45.5865211487\n",
      "Current loss value: 46.3585586548\n",
      "Current loss value: 47.1305923462\n",
      "Processing filter 7\n",
      "Current loss value:"
     ]
    },
    {
     "name": "stdout",
     "output_type": "stream",
     "text": [
      " 311.014801025\n",
      "Current loss value: 313.339752197\n",
      "Current loss value: 315.664672852\n",
      "Current loss value: 317.989593506\n",
      "Current loss value: 320.31439209\n",
      "Current loss value: 322.639129639\n",
      "Current loss value: 324.963775635\n",
      "Current loss value: 327.288421631\n",
      "Current loss value: 329.612945557\n",
      "Current loss value: 331.9375\n",
      "Current loss value: 334.261993408\n",
      "Current loss value: 336.586364746\n",
      "Current loss value: 338.910644531\n",
      "Current loss value: 341.234863281\n",
      "Current loss value:"
     ]
    },
    {
     "name": "stdout",
     "output_type": "stream",
     "text": [
      " 343.558990479\n",
      "Current loss value: 345.883117676\n",
      "Current loss value: 348.207122803\n",
      "Current loss value: 350.531097412\n",
      "Current loss value: 352.854980469\n",
      "Current loss value: 355.178771973\n",
      "Processing filter 8\n",
      "Current loss value:"
     ]
    },
    {
     "name": "stdout",
     "output_type": "stream",
     "text": [
      " -247.603317261\n",
      "Processing filter 9\n",
      "Current loss value:"
     ]
    },
    {
     "name": "stdout",
     "output_type": "stream",
     "text": [
      " -118.940887451\n",
      "Processing filter 10\n",
      "Current loss value:"
     ]
    },
    {
     "name": "stdout",
     "output_type": "stream",
     "text": [
      " -57.3569602966\n",
      "Processing filter 11\n",
      "Current loss value:"
     ]
    },
    {
     "name": "stdout",
     "output_type": "stream",
     "text": [
      " 217.845870972\n",
      "Current loss value: 219.468978882\n",
      "Current loss value: 221.092086792\n",
      "Current loss value: 222.715164185\n",
      "Current loss value: 224.338302612\n",
      "Current loss value: 225.961395264\n",
      "Current loss value: 227.584518433\n",
      "Current loss value: 229.207595825\n",
      "Current loss value: 230.830718994\n",
      "Current loss value: 232.453826904\n",
      "Current loss value: 234.076904297\n",
      "Current loss value: 235.699981689\n",
      "Current loss value: 237.323059082\n",
      "Current loss value:"
     ]
    },
    {
     "name": "stdout",
     "output_type": "stream",
     "text": [
      " 238.946121216\n",
      "Current loss value: 240.569229126\n",
      "Current loss value: 242.192337036\n",
      "Current loss value: 243.815429688\n",
      "Current loss value: 245.438537598\n",
      "Current loss value: 247.061630249\n",
      "Current loss value: 248.684753418\n",
      "Processing filter 12\n",
      "Current loss value:"
     ]
    },
    {
     "name": "stdout",
     "output_type": "stream",
     "text": [
      " -102.840766907\n",
      "Processing filter 13\n",
      "Current loss value:"
     ]
    },
    {
     "name": "stdout",
     "output_type": "stream",
     "text": [
      " -217.888763428\n",
      "Processing filter 14\n",
      "Current loss value:"
     ]
    },
    {
     "name": "stdout",
     "output_type": "stream",
     "text": [
      " 526.887573242\n",
      "Current loss value: 530.83001709\n",
      "Current loss value: 534.772399902\n",
      "Current loss value: 538.714782715\n",
      "Current loss value: 542.657226562\n",
      "Current loss value: 546.599609375\n",
      "Current loss value: 550.541992188\n",
      "Current loss value: 554.484436035\n",
      "Current loss value: 558.426818848\n",
      "Current loss value: 562.36920166\n",
      "Current loss value: 566.311584473\n",
      "Current loss value: 570.25390625\n",
      "Current loss value: 574.196289062\n",
      "Current loss value: 578.13861084\n",
      "Current loss value: 582.080932617\n",
      "Current loss value:"
     ]
    },
    {
     "name": "stdout",
     "output_type": "stream",
     "text": [
      " 586.023254395\n",
      "Current loss value: 589.965637207\n",
      "Current loss value: 593.907958984\n",
      "Current loss value: 597.850219727\n",
      "Current loss value: 601.792541504\n",
      "Processing filter 15\n",
      "Current loss value:"
     ]
    },
    {
     "name": "stdout",
     "output_type": "stream",
     "text": [
      " -70.394317627\n",
      "Processing filter 16\n",
      "Current loss value:"
     ]
    },
    {
     "name": "stdout",
     "output_type": "stream",
     "text": [
      " -129.87008667\n",
      "Processing filter 17\n",
      "Current loss value:"
     ]
    },
    {
     "name": "stdout",
     "output_type": "stream",
     "text": [
      " 101.05796051\n",
      "Current loss value: 101.985832214\n",
      "Current loss value: 102.913780212\n",
      "Current loss value: 103.841842651\n",
      "Current loss value: 104.769966125\n",
      "Current loss value: 105.698097229\n",
      "Current loss value: 106.626243591\n",
      "Current loss value: 107.554367065\n",
      "Current loss value: 108.482498169\n",
      "Current loss value: 109.410621643\n",
      "Current loss value: 110.33870697\n",
      "Current loss value: 111.266792297\n",
      "Current loss value: 112.194877625\n",
      "Current loss value: 113.123001099\n",
      "Current loss value: 114.051071167\n",
      "Current loss value:"
     ]
    },
    {
     "name": "stdout",
     "output_type": "stream",
     "text": [
      " 114.979118347\n",
      "Current loss value: 115.907157898\n",
      "Current loss value: 116.835205078\n",
      "Current loss value: 117.763206482\n",
      "Current loss value: 118.691040039\n",
      "Processing filter 18\n",
      "Current loss value:"
     ]
    },
    {
     "name": "stdout",
     "output_type": "stream",
     "text": [
      " 343.714447021\n",
      "Current loss value: 346.305969238\n",
      "Current loss value: 348.897460938\n",
      "Current loss value: 351.488891602\n",
      "Current loss value: 354.08026123\n",
      "Current loss value: 356.671569824\n",
      "Current loss value: 359.2628479\n",
      "Current loss value: 361.854095459\n",
      "Current loss value: 364.445281982\n",
      "Current loss value: 367.036315918\n",
      "Current loss value: 369.627258301\n",
      "Current loss value: 372.218139648\n",
      "Current loss value: 374.808929443\n",
      "Current loss value: 377.399627686\n",
      "Current loss value:"
     ]
    },
    {
     "name": "stdout",
     "output_type": "stream",
     "text": [
      " 379.990325928\n",
      "Current loss value: 382.580963135\n",
      "Current loss value: 385.171508789\n",
      "Current loss value: 387.761993408\n",
      "Current loss value: 390.35244751\n",
      "Current loss value: 392.942749023\n",
      "Processing filter 19\n",
      "Current loss value:"
     ]
    },
    {
     "name": "stdout",
     "output_type": "stream",
     "text": [
      " 463.576965332\n",
      "Current loss value: 467.101898193\n",
      "Current loss value: 470.62689209\n",
      "Current loss value: 474.151947021\n",
      "Current loss value: 477.677124023\n",
      "Current loss value: 481.202301025\n",
      "Current loss value: 484.727600098\n",
      "Current loss value: 488.252929688\n",
      "Current loss value: 491.778289795\n",
      "Current loss value: 495.303741455\n",
      "Current loss value: 498.829223633\n",
      "Current loss value: 502.354797363\n",
      "Current loss value: 505.880401611\n",
      "Current loss value: 509.406097412\n",
      "Current loss value:"
     ]
    },
    {
     "name": "stdout",
     "output_type": "stream",
     "text": [
      " 512.931884766\n",
      "Current loss value: 516.457702637\n",
      "Current loss value: 519.983520508\n",
      "Current loss value: 523.509399414\n",
      "Current loss value: 527.035339355\n",
      "Current loss value: 530.561279297\n",
      "Processing filter 20\n",
      "Current loss value:"
     ]
    },
    {
     "name": "stdout",
     "output_type": "stream",
     "text": [
      " -156.581344604\n",
      "Processing filter 21\n",
      "Current loss value:"
     ]
    },
    {
     "name": "stdout",
     "output_type": "stream",
     "text": [
      " -136.764877319\n",
      "Processing filter 22\n",
      "Current loss value:"
     ]
    },
    {
     "name": "stdout",
     "output_type": "stream",
     "text": [
      " 563.233215332\n",
      "Current loss value: 567.454101562\n",
      "Current loss value: 571.674987793\n",
      "Current loss value: 575.896057129\n",
      "Current loss value: 580.11706543\n",
      "Current loss value: 584.338256836\n",
      "Current loss value: 588.559448242\n",
      "Current loss value: 592.780822754\n",
      "Current loss value: 597.00201416\n",
      "Current loss value: 601.223388672\n",
      "Current loss value: 605.444702148\n",
      "Current loss value: 609.666259766\n",
      "Current loss value: 613.887817383\n",
      "Current loss value: 618.109436035\n",
      "Current loss value:"
     ]
    },
    {
     "name": "stdout",
     "output_type": "stream",
     "text": [
      " 622.331054688\n",
      "Current loss value: 626.55279541\n",
      "Current loss value: 630.774536133\n",
      "Current loss value: 634.996276855\n",
      "Current loss value: 639.218017578\n",
      "Current loss value: 643.439880371\n",
      "Processing filter 23\n",
      "Current loss value:"
     ]
    },
    {
     "name": "stdout",
     "output_type": "stream",
     "text": [
      " 592.30090332\n",
      "Current loss value: 596.774841309\n",
      "Current loss value: 601.248840332\n",
      "Current loss value: 605.72277832\n",
      "Current loss value: 610.196838379\n",
      "Current loss value: 614.670898438\n",
      "Current loss value: 619.144897461\n",
      "Current loss value: 623.619018555\n",
      "Current loss value: 628.093078613\n",
      "Current loss value: 632.567260742\n",
      "Current loss value: 637.041320801\n",
      "Current loss value: 641.515441895\n",
      "Current loss value: 645.989562988\n",
      "Current loss value: 650.463684082\n",
      "Current loss value:"
     ]
    },
    {
     "name": "stdout",
     "output_type": "stream",
     "text": [
      " 654.937805176\n",
      "Current loss value: 659.41204834\n",
      "Current loss value: 663.886291504\n",
      "Current loss value: 668.360412598\n",
      "Current loss value: 672.834594727\n",
      "Current loss value: 677.308776855\n",
      "Processing filter 24\n",
      "Current loss value:"
     ]
    },
    {
     "name": "stdout",
     "output_type": "stream",
     "text": [
      " -164.914932251\n",
      "Processing filter 25\n",
      "Current loss value:"
     ]
    },
    {
     "name": "stdout",
     "output_type": "stream",
     "text": [
      " 543.863647461\n",
      "Current loss value: 547.985656738\n",
      "Current loss value: 552.107727051\n",
      "Current loss value: 556.229919434\n",
      "Current loss value: 560.352172852\n",
      "Current loss value: 564.47442627\n",
      "Current loss value: 568.596740723\n",
      "Current loss value: 572.719177246\n",
      "Current loss value: 576.84161377\n",
      "Current loss value: 580.964111328\n",
      "Current loss value: 585.086669922\n",
      "Current loss value: 589.209289551\n",
      "Current loss value:"
     ]
    },
    {
     "name": "stdout",
     "output_type": "stream",
     "text": [
      " 593.33190918\n",
      "Current loss value: 597.454467773\n",
      "Current loss value: 601.577209473\n",
      "Current loss value: 605.699951172\n",
      "Current loss value: 609.822692871\n",
      "Current loss value: 613.945495605\n",
      "Current loss value: 618.06829834\n",
      "Current loss value: 622.191223145\n",
      "Processing filter 26\n",
      "Current loss value:"
     ]
    },
    {
     "name": "stdout",
     "output_type": "stream",
     "text": [
      " 254.211410522\n",
      "Current loss value: 256.108459473\n",
      "Current loss value: 258.005523682\n",
      "Current loss value: 259.902648926\n",
      "Current loss value: 261.799743652\n",
      "Current loss value: 263.696899414\n",
      "Current loss value: 265.594055176\n",
      "Current loss value: 267.49118042\n",
      "Current loss value: 269.388366699\n",
      "Current loss value: 271.285583496\n",
      "Current loss value: 273.182769775\n",
      "Current loss value: 275.08001709\n",
      "Current loss value: 276.977233887\n",
      "Current loss value:"
     ]
    },
    {
     "name": "stdout",
     "output_type": "stream",
     "text": [
      " 278.874481201\n",
      "Current loss value: 280.771697998\n",
      "Current loss value: 282.668914795\n",
      "Current loss value: 284.566192627\n",
      "Current loss value: 286.463439941\n",
      "Current loss value: 288.360717773\n",
      "Current loss value: 290.257995605\n",
      "Processing filter 27\n",
      "Current loss value:"
     ]
    },
    {
     "name": "stdout",
     "output_type": "stream",
     "text": [
      " 163.244155884\n",
      "Current loss value: 164.659744263\n",
      "Current loss value: 166.075363159\n",
      "Current loss value: 167.490966797\n",
      "Current loss value: 168.906555176\n",
      "Current loss value: 170.322174072\n",
      "Current loss value: 171.737792969\n",
      "Current loss value: 173.153396606\n",
      "Current loss value: 174.569000244\n",
      "Current loss value: 175.984573364\n",
      "Current loss value: 177.400146484\n",
      "Current loss value: 178.815734863\n",
      "Current loss value:"
     ]
    },
    {
     "name": "stdout",
     "output_type": "stream",
     "text": [
      " 180.23135376\n",
      "Current loss value: 181.646972656\n",
      "Current loss value: 183.062561035\n",
      "Current loss value: 184.478225708\n",
      "Current loss value: 185.893936157\n",
      "Current loss value: 187.309616089\n",
      "Current loss value: 188.725296021\n",
      "Current loss value: 190.141036987\n",
      "Processing filter 28\n",
      "Current loss value:"
     ]
    },
    {
     "name": "stdout",
     "output_type": "stream",
     "text": [
      " 273.164367676\n",
      "Current loss value: 275.200805664\n",
      "Current loss value: 277.23727417\n",
      "Current loss value: 279.273742676\n",
      "Current loss value: 281.310241699\n",
      "Current loss value: 283.34677124\n",
      "Current loss value: 285.383361816\n",
      "Current loss value: 287.419952393\n",
      "Current loss value: 289.456573486\n",
      "Current loss value:"
     ]
    },
    {
     "name": "stdout",
     "output_type": "stream",
     "text": [
      " 291.493164062\n",
      "Current loss value: 293.529785156\n",
      "Current loss value: 295.566436768\n",
      "Current loss value: 297.603057861\n",
      "Current loss value: 299.63973999\n",
      "Current loss value: 301.676452637\n",
      "Current loss value:"
     ]
    },
    {
     "name": "stdout",
     "output_type": "stream",
     "text": [
      " 303.713165283\n",
      "Current loss value: 305.74987793\n",
      "Current loss value: 307.786560059\n",
      "Current loss value: 309.823272705\n",
      "Current loss value: 311.860015869\n",
      "Processing filter 29\n",
      "Current loss value:"
     ]
    },
    {
     "name": "stdout",
     "output_type": "stream",
     "text": [
      " -47.4561347961\n",
      "Processing filter 30\n",
      "Current loss value:"
     ]
    },
    {
     "name": "stdout",
     "output_type": "stream",
     "text": [
      " -82.080619812\n",
      "Processing filter 31\n",
      "Current loss value:"
     ]
    },
    {
     "ename": "IndexError",
     "evalue": "list index out of range",
     "traceback": [
      "\u001b[0;31m---------------------------------------------------------------------------\u001b[0m\n\u001b[0;31mIndexError\u001b[0m                                Traceback (most recent call last)",
      "\u001b[0;32m<ipython-input-27-8f7bf0fe99c5>\u001b[0m in \u001b[0;36m<module>\u001b[0;34m()\u001b[0m\n\u001b[1;32m     80\u001b[0m \u001b[0;32mfor\u001b[0m \u001b[0mi\u001b[0m \u001b[0;32min\u001b[0m \u001b[0mrange\u001b[0m\u001b[0;34m(\u001b[0m\u001b[0mn\u001b[0m\u001b[0;34m)\u001b[0m\u001b[0;34m:\u001b[0m\u001b[0;34m\u001b[0m\u001b[0m\n\u001b[1;32m     81\u001b[0m     \u001b[0;32mfor\u001b[0m \u001b[0mj\u001b[0m \u001b[0;32min\u001b[0m \u001b[0mrange\u001b[0m\u001b[0;34m(\u001b[0m\u001b[0mn\u001b[0m\u001b[0;34m)\u001b[0m\u001b[0;34m:\u001b[0m\u001b[0;34m\u001b[0m\u001b[0m\n\u001b[0;32m---> 82\u001b[0;31m         \u001b[0mimg\u001b[0m\u001b[0;34m,\u001b[0m \u001b[0mloss\u001b[0m \u001b[0;34m=\u001b[0m \u001b[0mkept_filters\u001b[0m\u001b[0;34m[\u001b[0m\u001b[0mi\u001b[0m \u001b[0;34m*\u001b[0m \u001b[0mn\u001b[0m \u001b[0;34m+\u001b[0m \u001b[0mj\u001b[0m\u001b[0;34m]\u001b[0m\u001b[0;34m\u001b[0m\u001b[0m\n\u001b[0m\u001b[1;32m     83\u001b[0m         stitched_filters[(img_width + margin) * i: (img_width + margin) * i + img_width,\n\u001b[1;32m     84\u001b[0m                          (img_height + margin) * j: (img_height + margin) * j + img_height, :] = img\n",
      "\u001b[0;31mIndexError\u001b[0m: list index out of range"
     ],
     "output_type": "error"
    },
    {
     "name": "stdout",
     "output_type": "stream",
     "text": [
      " -124.280601501\n"
     ]
    }
   ],
   "source": [
    "# layer_dict = dict([(layer.name, layer) for layer in model.layers])\n",
    "from __future__ import print_function\n",
    "from scipy.misc import imsave\n",
    "import numpy as np\n",
    "import time\n",
    "import os\n",
    "import h5py\n",
    "\n",
    "from keras.models import Sequential\n",
    "from keras.layers import Convolution2D, ZeroPadding2D, MaxPooling2D\n",
    "from keras import backend as K\n",
    "\n",
    "img_width = 32\n",
    "img_height = 32\n",
    "def normalize(x):\n",
    "    # utility function to normalize a tensor by its L2 norm\n",
    "    return x / (K.sqrt(K.mean(K.square(x))) + 1e-5)\n",
    "\n",
    "input_img = model.layers[0].input\n",
    "kept_filters = []\n",
    "for filter_index in range(0, 32):\n",
    "    # we only scan through the first 200 filters,\n",
    "    # but there are actually 512 of them\n",
    "    print('Processing filter %d' % filter_index)\n",
    " \n",
    "\n",
    "    # we build a loss function that maximizes the activation\n",
    "    # of the nth filter of the layer considered\n",
    "    layer_output = model.layers[2].output\n",
    "    loss = K.mean(layer_output[:, filter_index, :, :])\n",
    "\n",
    "    # we compute the gradient of the input picture wrt this loss\n",
    "    grads = K.gradients(loss, input_img)[0]\n",
    "\n",
    "    # normalization trick: we normalize the gradient\n",
    "    grads = normalize(grads)\n",
    "\n",
    "    # this function returns the loss and grads given the input picture\n",
    "    iterate = K.function([input_img], [loss, grads])\n",
    "\n",
    "    # step size for gradient ascent\n",
    "    step = 1.\n",
    "\n",
    "    # we start from a gray image with some random noise\n",
    "    input_img_data = np.random.random((1, 3, img_width, img_height)) * 20 + 128.\n",
    "\n",
    "    # we run gradient ascent for 20 steps\n",
    "    for i in range(20):\n",
    "        loss_value, grads_value = iterate([input_img_data])\n",
    "        input_img_data += grads_value * step\n",
    "\n",
    "        print('Current loss value:', loss_value)\n",
    "        if loss_value <= 0.:\n",
    "            # some filters get stuck to 0, we can skip them\n",
    "            break\n",
    "\n",
    "    # decode the resulting input image\n",
    "    if loss_value > 0:\n",
    "        img = deprocess_image(input_img_data[0])\n",
    "        kept_filters.append((img, loss_value))\n",
    "#     end_time = time.time()\n",
    "#     print('Filter %d processed in %ds' % (filter_index, end_time - start_time))\n",
    "\n",
    "# we will stich the best 64 filters on a 8 x 8 grid."
   ]
  },
  {
   "cell_type": "code",
   "execution_count": 30,
   "metadata": {},
   "outputs": [
    {
     "name": "stdout",
     "output_type": "stream",
     "text": [
      "(0, 0)\n",
      "(0, 1)\n",
      "(0, 2)\n",
      "(1, 0)\n",
      "(1, 1)\n",
      "(1, 2)\n",
      "(2, 0)\n",
      "(2, 1)\n",
      "(2, 2)\n"
     ]
    }
   ],
   "source": [
    "n = 3\n",
    "\n",
    "# the filters that have the highest loss are assumed to be better-looking.\n",
    "# we will only keep the top 64 filters.\n",
    "kept_filters.sort(key=lambda x: x[1], reverse=True)\n",
    "kept_filters = kept_filters[:n * n]\n",
    "\n",
    "# build a black picture with enough space for\n",
    "# our 8 x 8 filters of size 128 x 128, with a 5px margin in between\n",
    "margin = 10\n",
    "width = n * img_width + (n - 1) * margin\n",
    "height = n * img_height + (n - 1) * margin\n",
    "stitched_filters = np.zeros((width, height, 3))\n",
    "\n",
    "# fill the picture with our saved filters\n",
    "for i in range(n):\n",
    "    for j in range(n):\n",
    "        print ((i,j))\n",
    "        img, loss = kept_filters[i * n + j]\n",
    "        stitched_filters[(img_width + margin) * i: (img_width + margin) * i + img_width,\n",
    "                         (img_height + margin) * j: (img_height + margin) * j + img_height, :] = img\n",
    "\n",
    "# save the result to disk\n",
    "imsave('stitched_filters_%dx%d.png' % (n, n), stitched_filters)"
   ]
  },
  {
   "cell_type": "code",
   "execution_count": 4,
   "metadata": {},
   "outputs": [
    {
     "name": "stdout",
     "output_type": "stream",
     "text": [
      "List of arrays in this file: \n",
      " [u'X_pos', u'list']\n"
     ]
    }
   ],
   "source": [
    "import h5py\n",
    "import numpy as np\n",
    "\n",
    "with h5py.File('test_samples.h5','r') as hf:\n",
    "    print('List of arrays in this file: \\n', hf.keys())\n",
    "    data = hf.get('X_pos')\n",
    "    X_pos = np.array(data)"
   ]
  },
  {
   "cell_type": "code",
   "execution_count": 76,
   "metadata": {},
   "outputs": [
    {
     "data": {
      "text/plain": [
       "<bound method File.values of <Closed HDF5 file>>"
      ]
     },
     "execution_count": 76,
     "metadata": {},
     "output_type": "execute_result"
    }
   ],
   "source": [
    ""
   ]
  },
  {
   "cell_type": "code",
   "execution_count": 8,
   "metadata": {},
   "outputs": [
    {
     "name": "stdout",
     "output_type": "stream",
     "text": [
      "Test score: 3.7546192509\n",
      "Test accuracy: 0.766894457099\n"
     ]
    }
   ],
   "source": [
    "X_pos.shape\n",
    "X_pos = X_pos.transpose((0, 3, 1, 2))\n",
    "y_test = np.ones((X_pos.shape[0]))\n",
    "y_test = y_test = np_utils.to_categorical(y_test, 2)\n",
    "\n",
    "score = model.evaluate(X_pos, y_test, verbose=0)\n",
    "print('Test score:', score[0])\n",
    "print('Test accuracy:', score[1])"
   ]
  },
  {
   "cell_type": "code",
   "execution_count": 24,
   "metadata": {},
   "outputs": [
    {
     "name": "stdout",
     "output_type": "stream",
     "text": [
      "/home/perceptron/cape_coalwood/text/text-non-text/new_classifier\n",
      "Test score:"
     ]
    },
    {
     "name": "stdout",
     "output_type": "stream",
     "text": [
      " 16.1180953979\n",
      "Test accuracy: 0.0\n"
     ]
    },
    {
     "data": {
      "image/png": "[encoded data removed]",
      "text/plain": [
       "<matplotlib.figure.Figure at 0x7fb3a9389750>"
      ]
     },
     "metadata": {},
     "output_type": "display_data"
    }
   ],
   "source": [
    "%cd /home/perceptron/cape_coalwood/text/text-non-text/new_classifier\n",
    "import numpy as np\n",
    "import matplotlib.pyplot as plt\n",
    "from scipy import misc\n",
    "from skimage import data\n",
    "from skimage.transform import pyramid_gaussian\n",
    "\n",
    "image = plt.imread('img.jpg')\n",
    "rows, cols, dim = image.shape\n",
    "pyramid = tuple(pyramid_gaussian(image, downscale=2, max_layer=3))\n",
    "\n",
    "img = resize(image, (32,32,3))\n",
    "plt.imshow(img)\n",
    "img = np.expand_dims(img, axis=0).transpose((0, 3, 1, 2))\n",
    "\n",
    "y = np_utils.to_categorical(np.ones((1)), 2)\n",
    "score = model.evaluate(img,y, verbose=0)\n",
    "print('Test score:', score[0])\n",
    "print('Test accuracy:', score[1])"
   ]
  },
  {
   "cell_type": "code",
   "execution_count": 12,
   "metadata": {},
   "outputs": [
    {
     "name": "stdout",
     "output_type": "stream",
     "text": [
      "Time taken for one image:  2.905522\n"
     ]
    }
   ],
   "source": [
    "# Let us just apply the method to a single image and see what are the results\n",
    "import time\n",
    "img = plt.imread('trial_image.jpeg').transpose((2, 0, 1))\n",
    "channels, rows, cols = img.shape\n",
    "\n",
    "enlarged = np.lib.pad(img, ((0,0), (16, 16), (16,16)), mode='mean') \n",
    "# print (enlarged.shape)\n",
    "heat_map = np.zeros((rows, cols))\n",
    "t1 = time.clock()\n",
    "for r in np.arange(rows-32):\n",
    "    for c in np.arange(cols-32):\n",
    "        temp = np.expand_dims(enlarged[:, r:r+32, c:c+32], axis=0)\n",
    "        heat_map[r, c] = model.predict(temp)[0,0]\n",
    "        break\n",
    "print(\"Time taken for one image: \", time.clock()-t1)"
   ]
  },
  {
   "cell_type": "code",
   "execution_count": 7,
   "metadata": {},
   "outputs": [
    {
     "data": {
      "text/plain": [
       "(2,)"
      ]
     },
     "execution_count": 7,
     "metadata": {},
     "output_type": "execute_result"
    }
   ],
   "source": [
    "heat_map.shape\n",
    "# plt.imshow(heat_map)"
   ]
  },
  {
   "cell_type": "code",
   "execution_count": 2,
   "metadata": {},
   "outputs": [],
   "source": [
    "import cPickle as pickle\n",
    "import numpy as np\n",
    "import os\n",
    "from scipy.misc import imread\n",
    "\n",
    "def load_CIFAR_batch(filename):\n",
    "  \"\"\" load single batch of cifar \"\"\"\n",
    "  with open(filename, 'rb') as f:\n",
    "    datadict = pickle.load(f)\n",
    "    X = datadict['data']\n",
    "    Y = datadict['labels']\n",
    "    X = X.reshape(10000, 3, 32, 32).transpose(0,2,3,1).astype(\"float\")\n",
    "    Y = np.array(Y)\n",
    "    return X, Y\n",
    "\n",
    "path = '/home/perceptron/cape_coalwood/text/cifar-10-batches-py/data_batch_1'\n",
    "\n",
    "X, Y = load_CIFAR_batch(path)"
   ]
  },
  {
   "cell_type": "code",
   "execution_count": 14,
   "metadata": {},
   "outputs": [],
   "source": [
    "img = X[1]\n",
    "# img.shape\n",
    "# img = np.expand_dims(img, axis=0).transpose((0, 3, 1, 2))\n",
    "\n",
    "# # print (img_1.shape)\n",
    "# import time \n",
    "# t1 = time.clock()\n",
    "# prediction = model.predict(img, verbose=1)\n",
    "# print (time.clock()-t1)\n",
    "# print (prediction)\n",
    "# print (img[:].shape)"
   ]
  },
  {
   "cell_type": "code",
   "execution_count": 10,
   "metadata": {},
   "outputs": [
    {
     "name": "stdout",
     "output_type": "stream",
     "text": [
      "List of arrays in this file: \n",
      " [u'X_pos', u'list']\n"
     ]
    }
   ],
   "source": [
    "import h5py\n",
    "import numpy as np\n",
    "\n",
    "with h5py.File('positive_samples.h5','r') as hf:\n",
    "    print('List of arrays in this file: \\n', hf.keys())\n",
    "    data = hf.get('X_pos')\n",
    "    X_pos = np.array(data)\n",
    "\n",
    "with h5py.File('classifier_data.h5','r') as hf:\n",
    "    print('List of arrays in this file: \\n', hf.keys())\n",
    "    data = hf.get('X_neg')\n",
    "    X_neg = np.array(data)\n",
    "    \n",
    "with h5py.File('new_classifier.h5', 'w') as hf:\n",
    "    hf.create_dataset('X_pos', data=X_pos)\n",
    "    hf.create_dataset('X_neg', data=X_neg)"
   ]
  }
 ],
 "metadata": {
  "name": ""
 },
 "nbformat": 4,
 "nbformat_minor": 0
}